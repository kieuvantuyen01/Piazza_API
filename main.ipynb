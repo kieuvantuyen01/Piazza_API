{
 "cells": [
  {
   "cell_type": "code",
   "execution_count": 1,
   "metadata": {},
   "outputs": [
    {
     "name": "stdout",
     "output_type": "stream",
     "text": [
      "Collecting piazza-api\n",
      "  Downloading piazza_api-0.14.1-py3-none-any.whl.metadata (2.7 kB)\n",
      "Requirement already satisfied: requests in c:\\users\\tuyen\\appdata\\local\\programs\\python\\python38\\lib\\site-packages (from piazza-api) (2.31.0)\n",
      "Requirement already satisfied: six in c:\\users\\tuyen\\appdata\\local\\programs\\python\\python38\\lib\\site-packages (from piazza-api) (1.16.0)\n",
      "Requirement already satisfied: charset-normalizer<4,>=2 in c:\\users\\tuyen\\appdata\\local\\programs\\python\\python38\\lib\\site-packages (from requests->piazza-api) (2.0.12)\n",
      "Requirement already satisfied: idna<4,>=2.5 in c:\\users\\tuyen\\appdata\\local\\programs\\python\\python38\\lib\\site-packages (from requests->piazza-api) (3.3)\n",
      "Requirement already satisfied: urllib3<3,>=1.21.1 in c:\\users\\tuyen\\appdata\\local\\programs\\python\\python38\\lib\\site-packages (from requests->piazza-api) (1.26.9)\n",
      "Requirement already satisfied: certifi>=2017.4.17 in c:\\users\\tuyen\\appdata\\local\\programs\\python\\python38\\lib\\site-packages (from requests->piazza-api) (2022.6.15)\n",
      "Downloading piazza_api-0.14.1-py3-none-any.whl (14 kB)\n",
      "Installing collected packages: piazza-api\n",
      "Successfully installed piazza-api-0.14.1\n",
      "Collecting html2text\n",
      "  Downloading html2text-2024.2.26.tar.gz (56 kB)\n",
      "     ---------------------------------------- 0.0/56.5 kB ? eta -:--:--\n",
      "     ---------------------------------------- 56.5/56.5 kB 1.5 MB/s eta 0:00:00\n",
      "  Preparing metadata (setup.py): started\n",
      "  Preparing metadata (setup.py): finished with status 'done'\n",
      "Building wheels for collected packages: html2text\n",
      "  Building wheel for html2text (setup.py): started\n",
      "  Building wheel for html2text (setup.py): finished with status 'done'\n",
      "  Created wheel for html2text: filename=html2text-2024.2.26-py3-none-any.whl size=33083 sha256=9ce628f06e4a3fb7ce46421bb9ea463998833fe68fd180bae57aa982b0467e8d\n",
      "  Stored in directory: c:\\users\\tuyen\\appdata\\local\\pip\\cache\\wheels\\98\\7e\\0e\\dcc9406eea46d4906caf4b5f18a9c26c686602ae82f0387331\n",
      "Successfully built html2text\n",
      "Installing collected packages: html2text\n",
      "Successfully installed html2text-2024.2.26\n"
     ]
    },
    {
     "name": "stderr",
     "output_type": "stream",
     "text": [
      "  WARNING: Retrying (Retry(total=4, connect=None, read=None, redirect=None, status=None)) after connection broken by 'ConnectTimeoutError(<pip._vendor.urllib3.connection.HTTPSConnection object at 0x000002382C70EC70>, 'Connection to files.pythonhosted.org timed out. (connect timeout=15)')': /packages/1a/43/e1d53588561e533212117750ee79ad0ba02a41f52a08c1df3396bd466c05/html2text-2024.2.26.tar.gz\n",
      "  WARNING: Retrying (Retry(total=3, connect=None, read=None, redirect=None, status=None)) after connection broken by 'ConnectTimeoutError(<pip._vendor.urllib3.connection.HTTPSConnection object at 0x000002382C70EEE0>, 'Connection to files.pythonhosted.org timed out. (connect timeout=15)')': /packages/1a/43/e1d53588561e533212117750ee79ad0ba02a41f52a08c1df3396bd466c05/html2text-2024.2.26.tar.gz\n"
     ]
    }
   ],
   "source": [
    "!pip install piazza-api\n",
    "!pip install html2text"
   ]
  },
  {
   "cell_type": "code",
   "execution_count": 2,
   "metadata": {},
   "outputs": [
    {
     "name": "stdout",
     "output_type": "stream",
     "text": [
      "Logged in successfully.\n"
     ]
    },
    {
     "ename": "RequestError",
     "evalue": "Could not get post lsu5y3c194d7i6.\nResponse: {\n  \"result\": null,\n  \"error_codes\": [],\n  \"error\": \"Sorry, too fast -- please wait a second and try again.\",\n  \"aid\": \"luqplqjprx11c7\"\n}",
     "output_type": "error",
     "traceback": [
      "\u001b[1;31m---------------------------------------------------------------------------\u001b[0m",
      "\u001b[1;31mRequestError\u001b[0m                              Traceback (most recent call last)",
      "Cell \u001b[1;32mIn[2], line 63\u001b[0m\n\u001b[0;32m     60\u001b[0m         \u001b[38;5;28mprint\u001b[39m(\u001b[38;5;124mf\u001b[39m\u001b[38;5;124m\"\u001b[39m\u001b[38;5;124mStudent \u001b[39m\u001b[38;5;132;01m{\u001b[39;00mstudent_name\u001b[38;5;132;01m}\u001b[39;00m\u001b[38;5;124m (\u001b[39m\u001b[38;5;132;01m{\u001b[39;00mstudent_id\u001b[38;5;132;01m}\u001b[39;00m\u001b[38;5;124m) has \u001b[39m\u001b[38;5;132;01m{\u001b[39;00mcount\u001b[38;5;132;01m}\u001b[39;00m\u001b[38;5;124m helpful comments.\u001b[39m\u001b[38;5;124m\"\u001b[39m)\n\u001b[0;32m     62\u001b[0m \u001b[38;5;28;01mif\u001b[39;00m \u001b[38;5;18m__name__\u001b[39m \u001b[38;5;241m==\u001b[39m \u001b[38;5;124m'\u001b[39m\u001b[38;5;124m__main__\u001b[39m\u001b[38;5;124m'\u001b[39m:\n\u001b[1;32m---> 63\u001b[0m     \u001b[43mmain\u001b[49m\u001b[43m(\u001b[49m\u001b[43m)\u001b[49m\n",
      "Cell \u001b[1;32mIn[2], line 40\u001b[0m, in \u001b[0;36mmain\u001b[1;34m()\u001b[0m\n\u001b[0;32m     38\u001b[0m network_id \u001b[38;5;241m=\u001b[39m NETWORK_ID\n\u001b[0;32m     39\u001b[0m course \u001b[38;5;241m=\u001b[39m piazza\u001b[38;5;241m.\u001b[39mnetwork(network_id)\n\u001b[1;32m---> 40\u001b[0m posts \u001b[38;5;241m=\u001b[39m \u001b[38;5;28;43mlist\u001b[39;49m\u001b[43m(\u001b[49m\u001b[43mcourse\u001b[49m\u001b[38;5;241;43m.\u001b[39;49m\u001b[43miter_all_posts\u001b[49m\u001b[43m(\u001b[49m\u001b[43mlimit\u001b[49m\u001b[38;5;241;43m=\u001b[39;49m\u001b[38;5;241;43m500\u001b[39;49m\u001b[43m)\u001b[49m\u001b[43m)\u001b[49m  \u001b[38;5;66;03m# Convert generator to list\u001b[39;00m\n\u001b[0;32m     41\u001b[0m \u001b[38;5;28;01mfor\u001b[39;00m post \u001b[38;5;129;01min\u001b[39;00m posts:\n\u001b[0;32m     42\u001b[0m     \u001b[38;5;28mprint\u001b[39m(post[\u001b[38;5;124m'\u001b[39m\u001b[38;5;124mhistory\u001b[39m\u001b[38;5;124m'\u001b[39m][\u001b[38;5;241m0\u001b[39m][\u001b[38;5;124m'\u001b[39m\u001b[38;5;124msubject\u001b[39m\u001b[38;5;124m'\u001b[39m])\n",
      "File \u001b[1;32mc:\\Users\\tuyen\\AppData\\Local\\Programs\\Python\\Python38\\lib\\site-packages\\piazza_api\\network.py:112\u001b[0m, in \u001b[0;36mNetwork.iter_all_posts\u001b[1;34m(self, limit, sleep)\u001b[0m\n\u001b[0;32m    110\u001b[0m \u001b[38;5;28;01mfor\u001b[39;00m cid \u001b[38;5;129;01min\u001b[39;00m cids:\n\u001b[0;32m    111\u001b[0m     time\u001b[38;5;241m.\u001b[39msleep(sleep)\n\u001b[1;32m--> 112\u001b[0m     \u001b[38;5;28;01myield\u001b[39;00m \u001b[38;5;28;43mself\u001b[39;49m\u001b[38;5;241;43m.\u001b[39;49m\u001b[43mget_post\u001b[49m\u001b[43m(\u001b[49m\u001b[43mcid\u001b[49m\u001b[43m)\u001b[49m\n",
      "File \u001b[1;32mc:\\Users\\tuyen\\AppData\\Local\\Programs\\Python\\Python38\\lib\\site-packages\\piazza_api\\network.py:83\u001b[0m, in \u001b[0;36mNetwork.get_post\u001b[1;34m(self, cid)\u001b[0m\n\u001b[0;32m     75\u001b[0m \u001b[38;5;28;01mdef\u001b[39;00m \u001b[38;5;21mget_post\u001b[39m(\u001b[38;5;28mself\u001b[39m, cid):\n\u001b[0;32m     76\u001b[0m \u001b[38;5;250m    \u001b[39m\u001b[38;5;124;03m\"\"\"Get data from post `cid`\u001b[39;00m\n\u001b[0;32m     77\u001b[0m \n\u001b[0;32m     78\u001b[0m \u001b[38;5;124;03m    :type  cid: str|int\u001b[39;00m\n\u001b[1;32m   (...)\u001b[0m\n\u001b[0;32m     81\u001b[0m \u001b[38;5;124;03m    :returns: Dictionary with all data on the post\u001b[39;00m\n\u001b[0;32m     82\u001b[0m \u001b[38;5;124;03m    \"\"\"\u001b[39;00m\n\u001b[1;32m---> 83\u001b[0m     \u001b[38;5;28;01mreturn\u001b[39;00m \u001b[38;5;28;43mself\u001b[39;49m\u001b[38;5;241;43m.\u001b[39;49m\u001b[43m_rpc\u001b[49m\u001b[38;5;241;43m.\u001b[39;49m\u001b[43mcontent_get\u001b[49m\u001b[43m(\u001b[49m\u001b[43mcid\u001b[49m\u001b[38;5;241;43m=\u001b[39;49m\u001b[43mcid\u001b[49m\u001b[43m)\u001b[49m\n",
      "File \u001b[1;32mc:\\Users\\tuyen\\AppData\\Local\\Programs\\Python\\Python38\\lib\\site-packages\\piazza_api\\rpc.py:136\u001b[0m, in \u001b[0;36mPiazzaRPC.content_get\u001b[1;34m(self, cid, nid)\u001b[0m\n\u001b[0;32m    121\u001b[0m \u001b[38;5;250m\u001b[39m\u001b[38;5;124;03m\"\"\"Get data from post `cid` in network `nid`\u001b[39;00m\n\u001b[0;32m    122\u001b[0m \n\u001b[0;32m    123\u001b[0m \u001b[38;5;124;03m:type  nid: str\u001b[39;00m\n\u001b[1;32m   (...)\u001b[0m\n\u001b[0;32m    129\u001b[0m \u001b[38;5;124;03m:returns: Python object containing returned data\u001b[39;00m\n\u001b[0;32m    130\u001b[0m \u001b[38;5;124;03m\"\"\"\u001b[39;00m\n\u001b[0;32m    131\u001b[0m r \u001b[38;5;241m=\u001b[39m \u001b[38;5;28mself\u001b[39m\u001b[38;5;241m.\u001b[39mrequest(\n\u001b[0;32m    132\u001b[0m     method\u001b[38;5;241m=\u001b[39m\u001b[38;5;124m\"\u001b[39m\u001b[38;5;124mcontent.get\u001b[39m\u001b[38;5;124m\"\u001b[39m,\n\u001b[0;32m    133\u001b[0m     data\u001b[38;5;241m=\u001b[39m{\u001b[38;5;124m\"\u001b[39m\u001b[38;5;124mcid\u001b[39m\u001b[38;5;124m\"\u001b[39m: cid, \u001b[38;5;124m\"\u001b[39m\u001b[38;5;124mstudent_view\u001b[39m\u001b[38;5;124m\"\u001b[39m: \u001b[38;5;28;01mNone\u001b[39;00m},\n\u001b[0;32m    134\u001b[0m     nid\u001b[38;5;241m=\u001b[39mnid\n\u001b[0;32m    135\u001b[0m )\n\u001b[1;32m--> 136\u001b[0m \u001b[38;5;28;01mreturn\u001b[39;00m \u001b[38;5;28;43mself\u001b[39;49m\u001b[38;5;241;43m.\u001b[39;49m\u001b[43m_handle_error\u001b[49m\u001b[43m(\u001b[49m\u001b[43mr\u001b[49m\u001b[43m,\u001b[49m\u001b[43m \u001b[49m\u001b[38;5;124;43m\"\u001b[39;49m\u001b[38;5;124;43mCould not get post \u001b[39;49m\u001b[38;5;132;43;01m{}\u001b[39;49;00m\u001b[38;5;124;43m.\u001b[39;49m\u001b[38;5;124;43m\"\u001b[39;49m\u001b[38;5;241;43m.\u001b[39;49m\u001b[43mformat\u001b[49m\u001b[43m(\u001b[49m\u001b[43mcid\u001b[49m\u001b[43m)\u001b[49m\u001b[43m)\u001b[49m\n",
      "File \u001b[1;32mc:\\Users\\tuyen\\AppData\\Local\\Programs\\Python\\Python38\\lib\\site-packages\\piazza_api\\rpc.py:576\u001b[0m, in \u001b[0;36mPiazzaRPC._handle_error\u001b[1;34m(self, result, err_msg)\u001b[0m\n\u001b[0;32m    565\u001b[0m \u001b[38;5;250m\u001b[39m\u001b[38;5;124;03m\"\"\"Check result for error\u001b[39;00m\n\u001b[0;32m    566\u001b[0m \n\u001b[0;32m    567\u001b[0m \u001b[38;5;124;03m:type result: dict\u001b[39;00m\n\u001b[1;32m   (...)\u001b[0m\n\u001b[0;32m    573\u001b[0m \u001b[38;5;124;03m:raises RequestError: If result has error\u001b[39;00m\n\u001b[0;32m    574\u001b[0m \u001b[38;5;124;03m\"\"\"\u001b[39;00m\n\u001b[0;32m    575\u001b[0m \u001b[38;5;28;01mif\u001b[39;00m result\u001b[38;5;241m.\u001b[39mget(\u001b[38;5;124mu\u001b[39m\u001b[38;5;124m'\u001b[39m\u001b[38;5;124merror\u001b[39m\u001b[38;5;124m'\u001b[39m):\n\u001b[1;32m--> 576\u001b[0m     \u001b[38;5;28;01mraise\u001b[39;00m RequestError(\u001b[38;5;124m\"\u001b[39m\u001b[38;5;132;01m{}\u001b[39;00m\u001b[38;5;130;01m\\n\u001b[39;00m\u001b[38;5;124mResponse: \u001b[39m\u001b[38;5;132;01m{}\u001b[39;00m\u001b[38;5;124m\"\u001b[39m\u001b[38;5;241m.\u001b[39mformat(\n\u001b[0;32m    577\u001b[0m         err_msg,\n\u001b[0;32m    578\u001b[0m         json\u001b[38;5;241m.\u001b[39mdumps(result, indent\u001b[38;5;241m=\u001b[39m\u001b[38;5;241m2\u001b[39m)\n\u001b[0;32m    579\u001b[0m     ))\n\u001b[0;32m    580\u001b[0m \u001b[38;5;28;01melse\u001b[39;00m:\n\u001b[0;32m    581\u001b[0m     \u001b[38;5;28;01mreturn\u001b[39;00m result\u001b[38;5;241m.\u001b[39mget(\u001b[38;5;124mu\u001b[39m\u001b[38;5;124m'\u001b[39m\u001b[38;5;124mresult\u001b[39m\u001b[38;5;124m'\u001b[39m)\n",
      "\u001b[1;31mRequestError\u001b[0m: Could not get post lsu5y3c194d7i6.\nResponse: {\n  \"result\": null,\n  \"error_codes\": [],\n  \"error\": \"Sorry, too fast -- please wait a second and try again.\",\n  \"aid\": \"luqplqjprx11c7\"\n}"
     ]
    }
   ],
   "source": [
    "import json\n",
    "import re\n",
    "import os\n",
    "import time\n",
    "from html2text import HTML2Text\n",
    "from piazza_api import Piazza\n",
    "\n",
    "HTML_2_TEXT = HTML2Text()\n",
    "HTML_2_TEXT.ignore_links = True\n",
    "\n",
    "EMAIL = None\n",
    "PASSWORD = None\n",
    "NETWORK_ID = None\n",
    "\n",
    "if os.path.exists('credentials.json'):\n",
    "    with open('credentials.json') as f:\n",
    "        credentials = json.load(f)\n",
    "        EMAIL = credentials.get('email', None)\n",
    "        PASSWORD = credentials.get('password', None)\n",
    "        NETWORK_ID = credentials.get('network_id', None)\n",
    "\n",
    "def count_good_comments(comment, student_comment_counts, user_id_to_name):\n",
    "    if (comment['type'] == 'followup' or comment['type'] == 'feedback') and comment['tag_good']:\n",
    "        student_id = comment.get('uid', None)\n",
    "        if student_id and student_id not in student_comment_counts:\n",
    "            student_comment_counts[student_id] = 0\n",
    "        if student_id:\n",
    "            student_comment_counts[student_id] += 1\n",
    "            if student_id not in user_id_to_name:\n",
    "                user_id_to_name[student_id] = \"Unknown\"\n",
    "    for child in comment['children']:\n",
    "        count_good_comments(child, student_comment_counts, user_id_to_name)\n",
    "\n",
    "def main():\n",
    "    piazza = Piazza()\n",
    "    piazza.user_login(email=EMAIL, password=PASSWORD)\n",
    "    print(\"Logged in successfully.\")\n",
    "    network_id = NETWORK_ID\n",
    "    course = piazza.network(network_id)\n",
    "    posts = list(course.iter_all_posts(limit=500))  # Convert generator to list\n",
    "    # for post in posts:\n",
    "    #     print(post)\n",
    "    print(f\"Found {len(posts)} posts.\")\n",
    "\n",
    "    # Get all users and create a dictionary mapping user IDs to names\n",
    "    all_users = course.get_all_users()\n",
    "    print(f\"Found {len(all_users)} users.\")\n",
    "    user_id_to_name = {user['id']: user['name'] for user in all_users}\n",
    "    print(user_id_to_name)\n",
    "\n",
    "    student_comment_counts = {}\n",
    "\n",
    "    for post in posts:\n",
    "        for child in post['children']:\n",
    "            count_good_comments(child, student_comment_counts, user_id_to_name)\n",
    "        # time.sleep(1)  # Add a delay between requests\n",
    "\n",
    "    for student_id, count in student_comment_counts.items():\n",
    "        student_name = user_id_to_name.get(student_id, \"Unknown\")\n",
    "        print(f\"Student {student_name} ({student_id}) has {count} helpful comments.\")\n",
    "\n",
    "if __name__ == '__main__':\n",
    "    main()"
   ]
  }
 ],
 "metadata": {
  "kernelspec": {
   "display_name": "Python 3",
   "language": "python",
   "name": "python3"
  },
  "language_info": {
   "codemirror_mode": {
    "name": "ipython",
    "version": 3
   },
   "file_extension": ".py",
   "mimetype": "text/x-python",
   "name": "python",
   "nbconvert_exporter": "python",
   "pygments_lexer": "ipython3",
   "version": "3.8.6"
  }
 },
 "nbformat": 4,
 "nbformat_minor": 2
}
